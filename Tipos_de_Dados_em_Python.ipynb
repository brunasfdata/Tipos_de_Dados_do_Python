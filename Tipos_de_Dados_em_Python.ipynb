{
  "nbformat": 4,
  "nbformat_minor": 0,
  "metadata": {
    "colab": {
      "provenance": [],
      "collapsed_sections": [
        "ggjymgHng2Fg",
        "DQbbLeh3g2iB",
        "eqak3bbBR3OU",
        "lV43VVz8R3Ot",
        "rl9NE5dcR3O0",
        "w78BNM62R3O4",
        "yH0ZuzWuginX",
        "mbsVux8Cg2nN",
        "xALSqwcZLQ3L"
      ],
      "include_colab_link": true
    },
    "kernelspec": {
      "name": "python3",
      "display_name": "Python 3"
    }
  },
  "cells": [
    {
      "cell_type": "markdown",
      "metadata": {
        "id": "view-in-github",
        "colab_type": "text"
      },
      "source": [
        "<a href=\"https://colab.research.google.com/github/brunasfdata/Tipos_de_Dados_do_Python/blob/main/Tipos_de_Dados_em_Python.ipynb\" target=\"_parent\"><img src=\"https://colab.research.google.com/assets/colab-badge.svg\" alt=\"Open In Colab\"/></a>"
      ]
    },
    {
      "cell_type": "markdown",
      "metadata": {
        "id": "7oiQVQi0AJ6D"
      },
      "source": [
        "# <font color='BLUE'>Cientista de Dados na Prática </font>\n",
        "\n",
        "# <font color='GREEN'>Módulo 4 - Análise Exploratória dos Dados</font>\n",
        "\n",
        "# <font color='GREY'> Tipos de Dados do Python </font>\n",
        "\n"
      ]
    },
    {
      "cell_type": "markdown",
      "metadata": {
        "id": "ggjymgHng2Fg"
      },
      "source": [
        "# 1° Strings"
      ]
    },
    {
      "cell_type": "markdown",
      "metadata": {
        "id": "KpECQ2NZJHUm"
      },
      "source": [
        "1. As seqüências de caracteres podem ser simplesmente definidas usando aspas simples (‘), duplas (\") ou triplas (''').\n",
        "2. As seqüências de caracteres entre aspas ('') podem se estender por várias linhas e são usadas com freqüência em documentos (a maneira de documentar as funções do Python).\n",
        "3. \\ é usado como um caractere de escape. Observe que as strings do Python são imutáveis, portanto você não pode alterar parte das strings.\n"
      ]
    },
    {
      "cell_type": "code",
      "metadata": {
        "id": "uh1xqISRIA7Z",
        "outputId": "abb911c7-93e8-4bdb-88aa-eae8a02f4a36",
        "colab": {
          "base_uri": "https://localhost:8080/",
          "height": 35
        }
      },
      "source": [
        "# definindo uma string\n",
        "my_string = 'Hello'\n",
        "my_string"
      ],
      "execution_count": 1,
      "outputs": [
        {
          "output_type": "execute_result",
          "data": {
            "text/plain": [
              "'Hello'"
            ],
            "application/vnd.google.colaboratory.intrinsic+json": {
              "type": "string"
            }
          },
          "metadata": {},
          "execution_count": 1
        }
      ]
    },
    {
      "cell_type": "code",
      "metadata": {
        "id": "5cRWweadIHTa",
        "outputId": "b55716fc-dbd9-4da1-887e-0d6a4dad3157",
        "colab": {
          "base_uri": "https://localhost:8080/"
        }
      },
      "source": [
        "# caracter de index igual a 1\n",
        "print('caracter de index 1 = ', my_string[1])"
      ],
      "execution_count": null,
      "outputs": [
        {
          "output_type": "stream",
          "name": "stdout",
          "text": [
            "caracter de index 1 =  e\n"
          ]
        }
      ]
    },
    {
      "cell_type": "code",
      "metadata": {
        "id": "f7TTHF7IIJmf",
        "outputId": "c431b78b-55fe-47f0-a90e-4adf02f0c9da",
        "colab": {
          "base_uri": "https://localhost:8080/"
        }
      },
      "source": [
        "# Comprimento da string\n",
        "print('O Comprimento da string é ==>', len(my_string))"
      ],
      "execution_count": null,
      "outputs": [
        {
          "output_type": "stream",
          "name": "stdout",
          "text": [
            "O Comprimento da string é ==> 5\n"
          ]
        }
      ]
    },
    {
      "cell_type": "code",
      "metadata": {
        "id": "Q6XzZvQgdwDB",
        "outputId": "807c1629-87f5-4fb5-dc69-c6f33fc1be2a",
        "colab": {
          "base_uri": "https://localhost:8080/"
        }
      },
      "source": [
        "len(my_string)"
      ],
      "execution_count": null,
      "outputs": [
        {
          "output_type": "execute_result",
          "data": {
            "text/plain": [
              "5"
            ]
          },
          "metadata": {},
          "execution_count": 8
        }
      ]
    },
    {
      "cell_type": "code",
      "metadata": {
        "id": "AExl9I1JIMNA",
        "outputId": "92c52301-d94e-439f-f08b-c2da64c94ab5",
        "colab": {
          "base_uri": "https://localhost:8080/"
        }
      },
      "source": [
        "# string concatenation\n",
        "new_string = my_string+' World'\n",
        "print('A nova String é ==> ',new_string)"
      ],
      "execution_count": null,
      "outputs": [
        {
          "output_type": "stream",
          "name": "stdout",
          "text": [
            "A nova String é ==>  Hello World\n"
          ]
        }
      ]
    },
    {
      "cell_type": "markdown",
      "metadata": {
        "id": "DQbbLeh3g2iB"
      },
      "source": [
        "# 2° Tuplas"
      ]
    },
    {
      "cell_type": "markdown",
      "metadata": {
        "id": "quVIZMg_KC9i"
      },
      "source": [
        "Uma tupla é representada por um número de valores separados por vírgulas. **As tuplas são imutáveis** e a saída é cercada por parênteses, para que as tuplas aninhadas sejam processadas corretamente. Além disso, embora as tuplas sejam imutáveis, elas podem armazenar dados mutáveis, se necessário.\n",
        "Como as Tuplas são imutáveis e não podem ser alteradas, **seu processamento é mais rápido em comparação às listas**. Portanto, se é improvável que sua lista seja alterada, você deve usar tuplas, em vez de listas."
      ]
    },
    {
      "cell_type": "markdown",
      "metadata": {
        "id": "eqak3bbBR3OU"
      },
      "source": [
        "# Trabalhando com Tuplas"
      ]
    },
    {
      "cell_type": "code",
      "metadata": {
        "id": "zcPPoeMCR3OV"
      },
      "source": [
        "# Tuplas usam parênteses como sintaxe\n",
        "tupla1 = ()"
      ],
      "execution_count": null,
      "outputs": []
    },
    {
      "cell_type": "code",
      "metadata": {
        "id": "Go1ArBnkR3OY",
        "outputId": "bf2e2bcd-27f9-4dca-9142-149371e49ec1",
        "colab": {
          "base_uri": "https://localhost:8080/"
        }
      },
      "source": [
        "tupla1"
      ],
      "execution_count": null,
      "outputs": [
        {
          "output_type": "execute_result",
          "data": {
            "text/plain": [
              "()"
            ]
          },
          "metadata": {},
          "execution_count": 13
        }
      ]
    },
    {
      "cell_type": "code",
      "metadata": {
        "id": "bmjiycuzR3Oa"
      },
      "source": [
        "tupla1 = ('BMW','Beija-Flor',218.900,100000)"
      ],
      "execution_count": null,
      "outputs": []
    },
    {
      "cell_type": "code",
      "metadata": {
        "id": "_Y73Pq17R3Oc",
        "colab": {
          "base_uri": "https://localhost:8080/"
        },
        "outputId": "0bb235e8-1055-420d-94cb-3a4eae2a0e21"
      },
      "source": [
        "tupla1"
      ],
      "execution_count": null,
      "outputs": [
        {
          "output_type": "execute_result",
          "data": {
            "text/plain": [
              "('BMW', 'Beija-Flor', 218.9, 100000)"
            ]
          },
          "metadata": {},
          "execution_count": 16
        }
      ]
    },
    {
      "cell_type": "code",
      "metadata": {
        "id": "UKo8Lv05R3Oe",
        "outputId": "8b940080-af9e-444c-bbf2-98c0c4404d4e",
        "colab": {
          "base_uri": "https://localhost:8080/"
        }
      },
      "source": [
        "# Python 3 aceita criação de uma tupla sem usar a virgula\n",
        "tupla = (10)\n",
        "tupla"
      ],
      "execution_count": null,
      "outputs": [
        {
          "output_type": "execute_result",
          "data": {
            "text/plain": [
              "10"
            ]
          },
          "metadata": {},
          "execution_count": 17
        }
      ]
    },
    {
      "cell_type": "code",
      "metadata": {
        "id": "pxgP1ffyR3Og",
        "outputId": "0095ada2-dac4-4290-80df-70fc31bc13fd",
        "colab": {
          "base_uri": "https://localhost:8080/"
        }
      },
      "source": [
        "# Imprimindo elementos da tupla a partir das posições\n",
        "tupla1[0], tupla1[2], tupla1[3]"
      ],
      "execution_count": null,
      "outputs": [
        {
          "output_type": "execute_result",
          "data": {
            "text/plain": [
              "('BMW', 218.9, 100000)"
            ]
          },
          "metadata": {},
          "execution_count": 18
        }
      ]
    },
    {
      "cell_type": "code",
      "metadata": {
        "id": "OpX8e6-kR3Oi",
        "colab": {
          "base_uri": "https://localhost:8080/",
          "height": 193
        },
        "outputId": "46b2d17f-41c4-47e6-b43b-8e0fa83943f1"
      },
      "source": [
        "#Tuplas são imutáveis !! (importante)\n",
        "tupla1[0] = 'AUDI'"
      ],
      "execution_count": null,
      "outputs": [
        {
          "output_type": "error",
          "ename": "TypeError",
          "evalue": "ignored",
          "traceback": [
            "\u001b[0;31m---------------------------------------------------------------------------\u001b[0m",
            "\u001b[0;31mTypeError\u001b[0m                                 Traceback (most recent call last)",
            "\u001b[0;32m<ipython-input-19-57449b3d0553>\u001b[0m in \u001b[0;36m<cell line: 2>\u001b[0;34m()\u001b[0m\n\u001b[1;32m      1\u001b[0m \u001b[0;31m#Tuplas são imutáveis !! (importante)\u001b[0m\u001b[0;34m\u001b[0m\u001b[0;34m\u001b[0m\u001b[0m\n\u001b[0;32m----> 2\u001b[0;31m \u001b[0mtupla1\u001b[0m\u001b[0;34m[\u001b[0m\u001b[0;36m0\u001b[0m\u001b[0;34m]\u001b[0m \u001b[0;34m=\u001b[0m \u001b[0;34m'AUDI'\u001b[0m\u001b[0;34m\u001b[0m\u001b[0;34m\u001b[0m\u001b[0m\n\u001b[0m",
            "\u001b[0;31mTypeError\u001b[0m: 'tuple' object does not support item assignment"
          ]
        }
      ]
    },
    {
      "cell_type": "code",
      "metadata": {
        "id": "MBFR4-AdR3Ol"
      },
      "source": [
        "# Criaçao de tuplas aninhadas\n",
        "tupla_aninhada = (1,2,3, (23,43,78))"
      ],
      "execution_count": null,
      "outputs": []
    },
    {
      "cell_type": "code",
      "metadata": {
        "id": "DpA5IJGfR3On",
        "outputId": "8a3751f8-07b0-4417-bd82-eba579f3fbdf",
        "colab": {
          "base_uri": "https://localhost:8080/"
        }
      },
      "source": [
        "tupla_aninhada[2]"
      ],
      "execution_count": null,
      "outputs": [
        {
          "output_type": "execute_result",
          "data": {
            "text/plain": [
              "3"
            ]
          },
          "metadata": {},
          "execution_count": 21
        }
      ]
    },
    {
      "cell_type": "code",
      "metadata": {
        "id": "qWaUB1zGR3Or",
        "outputId": "b5d97296-6835-40aa-a0de-5e54f973491f",
        "colab": {
          "base_uri": "https://localhost:8080/"
        }
      },
      "source": [
        "# Acessando o primeiro valor da lista aninhada\n",
        "tupla_aninhada[3][1]"
      ],
      "execution_count": null,
      "outputs": [
        {
          "output_type": "execute_result",
          "data": {
            "text/plain": [
              "43"
            ]
          },
          "metadata": {},
          "execution_count": 22
        }
      ]
    },
    {
      "cell_type": "markdown",
      "metadata": {
        "id": "lV43VVz8R3Ot"
      },
      "source": [
        "# Operações Básicas"
      ]
    },
    {
      "cell_type": "code",
      "metadata": {
        "id": "P1ypkrYNR3Ot"
      },
      "source": [
        "# Operação de Repetição e criação de nova tupla\n",
        "tupla2 = tupla1 * 3"
      ],
      "execution_count": null,
      "outputs": []
    },
    {
      "cell_type": "code",
      "metadata": {
        "scrolled": true,
        "id": "VhRd1aEGR3Ov",
        "colab": {
          "base_uri": "https://localhost:8080/"
        },
        "outputId": "373f755b-086c-4feb-babe-2b31b7c15048"
      },
      "source": [
        "tupla2"
      ],
      "execution_count": null,
      "outputs": [
        {
          "output_type": "execute_result",
          "data": {
            "text/plain": [
              "('BMW',\n",
              " 'Beija-Flor',\n",
              " 218.9,\n",
              " 100000,\n",
              " 'BMW',\n",
              " 'Beija-Flor',\n",
              " 218.9,\n",
              " 100000,\n",
              " 'BMW',\n",
              " 'Beija-Flor',\n",
              " 218.9,\n",
              " 100000)"
            ]
          },
          "metadata": {},
          "execution_count": 39
        }
      ]
    },
    {
      "cell_type": "code",
      "metadata": {
        "id": "EPnKj8D51Jxl",
        "colab": {
          "base_uri": "https://localhost:8080/"
        },
        "outputId": "3186c0da-4a05-4e6e-b22b-7a286f0b59aa"
      },
      "source": [
        "tupla1"
      ],
      "execution_count": null,
      "outputs": [
        {
          "output_type": "execute_result",
          "data": {
            "text/plain": [
              "('BMW', 'Beija-Flor', 218.9, 100000)"
            ]
          },
          "metadata": {},
          "execution_count": 40
        }
      ]
    },
    {
      "cell_type": "code",
      "metadata": {
        "id": "nm4RdJRdR3Ox",
        "outputId": "09896701-3780-4569-abf2-ae69d7681342",
        "colab": {
          "base_uri": "https://localhost:8080/"
        }
      },
      "source": [
        "# Concatena Tuplas\n",
        "tupla_concatenada = (1, 2, 3) + (4, 5, 6)\n",
        "tupla_concatenada"
      ],
      "execution_count": null,
      "outputs": [
        {
          "output_type": "execute_result",
          "data": {
            "text/plain": [
              "(1, 2, 3, 4, 5, 6)"
            ]
          },
          "metadata": {},
          "execution_count": 41
        }
      ]
    },
    {
      "cell_type": "code",
      "metadata": {
        "id": "JekNhCZ6R3Oz",
        "outputId": "ca601ea6-5b5a-4e54-fbf8-76d9fb9b8def",
        "colab": {
          "base_uri": "https://localhost:8080/"
        }
      },
      "source": [
        "# Checa se o elemento pertence a tupla\n",
        "'Beija-Flor' in tupla1"
      ],
      "execution_count": null,
      "outputs": [
        {
          "output_type": "execute_result",
          "data": {
            "text/plain": [
              "True"
            ]
          },
          "metadata": {},
          "execution_count": 42
        }
      ]
    },
    {
      "cell_type": "code",
      "metadata": {
        "id": "K5tiYVVY1kF-",
        "outputId": "59cf423d-0cfe-46fa-b5fe-22473070792d",
        "colab": {
          "base_uri": "https://localhost:8080/"
        }
      },
      "source": [
        "tupla1"
      ],
      "execution_count": null,
      "outputs": [
        {
          "output_type": "execute_result",
          "data": {
            "text/plain": [
              "('BMW', 'Beija-Flor', 218.9, 100000)"
            ]
          },
          "metadata": {},
          "execution_count": 43
        }
      ]
    },
    {
      "cell_type": "markdown",
      "metadata": {
        "id": "rl9NE5dcR3O0"
      },
      "source": [
        "# Slicing ou Fatiamento"
      ]
    },
    {
      "cell_type": "code",
      "metadata": {
        "id": "ao_vEOoCR3O1",
        "colab": {
          "base_uri": "https://localhost:8080/"
        },
        "outputId": "f2909def-08ff-4274-8d48-88496215b35b"
      },
      "source": [
        "# Percorre a tupla do elemento na posição 2 em diante.\n",
        "tupla1[2:]"
      ],
      "execution_count": null,
      "outputs": [
        {
          "output_type": "execute_result",
          "data": {
            "text/plain": [
              "(218.9, 100000)"
            ]
          },
          "metadata": {},
          "execution_count": 44
        }
      ]
    },
    {
      "cell_type": "code",
      "metadata": {
        "id": "e9Io3G8nR3O2",
        "outputId": "792f292a-699f-40f1-a2b5-754759c0f84e",
        "colab": {
          "base_uri": "https://localhost:8080/"
        }
      },
      "source": [
        "# Percorre a tupla do elemento na posição 1 até o elemento na posição 3\n",
        "tupla1[1:4]"
      ],
      "execution_count": null,
      "outputs": [
        {
          "output_type": "execute_result",
          "data": {
            "text/plain": [
              "('Beija-Flor', 218.9, 100000)"
            ]
          },
          "metadata": {},
          "execution_count": 45
        }
      ]
    },
    {
      "cell_type": "markdown",
      "metadata": {
        "id": "w78BNM62R3O4"
      },
      "source": [
        "# Métodos Disponíveis (funções)"
      ]
    },
    {
      "cell_type": "code",
      "metadata": {
        "id": "KGIvJWIeR3O4",
        "colab": {
          "base_uri": "https://localhost:8080/"
        },
        "outputId": "b4a56ad5-42c1-4752-841a-2977a9301507"
      },
      "source": [
        "# Conta a frequência de um elemento\n",
        "tupla1.count('Beija-Flor')"
      ],
      "execution_count": null,
      "outputs": [
        {
          "output_type": "execute_result",
          "data": {
            "text/plain": [
              "1"
            ]
          },
          "metadata": {},
          "execution_count": 46
        }
      ]
    },
    {
      "cell_type": "code",
      "metadata": {
        "id": "lSPFT_ZbR3O6",
        "outputId": "b15256a7-b049-4291-b601-4f5177478d37",
        "colab": {
          "base_uri": "https://localhost:8080/"
        }
      },
      "source": [
        "# Retorna a posição do elemento.\n",
        "tupla1.index(218.9)"
      ],
      "execution_count": null,
      "outputs": [
        {
          "output_type": "execute_result",
          "data": {
            "text/plain": [
              "2"
            ]
          },
          "metadata": {},
          "execution_count": 47
        }
      ]
    },
    {
      "cell_type": "code",
      "metadata": {
        "id": "C_Q3eyG62Xtg",
        "outputId": "1ce5f77a-ea00-492c-cc33-3e121dcf9056",
        "colab": {
          "base_uri": "https://localhost:8080/"
        }
      },
      "source": [
        "tupla1"
      ],
      "execution_count": null,
      "outputs": [
        {
          "output_type": "execute_result",
          "data": {
            "text/plain": [
              "('BMW', 'Beija-Flor', 218.9, 100000)"
            ]
          },
          "metadata": {},
          "execution_count": 48
        }
      ]
    },
    {
      "cell_type": "code",
      "metadata": {
        "id": "7W9KW8l_R3O8",
        "outputId": "2ca92f0a-9caf-4cb5-f2c6-fed371017998",
        "colab": {
          "base_uri": "https://localhost:8080/"
        }
      },
      "source": [
        "# Retorna o tamanho da tupla\n",
        "len(tupla1)"
      ],
      "execution_count": null,
      "outputs": [
        {
          "output_type": "execute_result",
          "data": {
            "text/plain": [
              "4"
            ]
          },
          "metadata": {},
          "execution_count": 49
        }
      ]
    },
    {
      "cell_type": "code",
      "metadata": {
        "id": "y2aEl9L2R3O9",
        "outputId": "9e4867b6-0df3-4a88-be1f-6afd081c9730",
        "colab": {
          "base_uri": "https://localhost:8080/"
        }
      },
      "source": [
        "# Retorna o maior valor da tupla\n",
        "tupla2 = (1,2,8,218000,99.0)\n",
        "max(tupla2)"
      ],
      "execution_count": null,
      "outputs": [
        {
          "output_type": "execute_result",
          "data": {
            "text/plain": [
              "218000"
            ]
          },
          "metadata": {},
          "execution_count": 50
        }
      ]
    },
    {
      "cell_type": "code",
      "metadata": {
        "id": "BvioPja0R3O_",
        "outputId": "d8d80445-7cfd-4456-ee30-a126eb605f78",
        "colab": {
          "base_uri": "https://localhost:8080/"
        }
      },
      "source": [
        "# Retorna o menor valor da tupla\n",
        "min(tupla2)"
      ],
      "execution_count": null,
      "outputs": [
        {
          "output_type": "execute_result",
          "data": {
            "text/plain": [
              "1"
            ]
          },
          "metadata": {},
          "execution_count": 51
        }
      ]
    },
    {
      "cell_type": "code",
      "metadata": {
        "id": "4NcqAuCbR3PA",
        "colab": {
          "base_uri": "https://localhost:8080/"
        },
        "outputId": "94b63050-7dcb-4ef6-9e1f-7534b23068dc"
      },
      "source": [
        "# Criando uma lista\n",
        "lista = [1,3,4,3,89.9,765,'Ciência dos Dados','Machine Learning']\n",
        "lista"
      ],
      "execution_count": null,
      "outputs": [
        {
          "output_type": "execute_result",
          "data": {
            "text/plain": [
              "[1, 3, 4, 3, 89.9, 765, 'Ciência dos Dados', 'Machine Learning']"
            ]
          },
          "metadata": {},
          "execution_count": 52
        }
      ]
    },
    {
      "cell_type": "code",
      "metadata": {
        "id": "CKdmB-0E2tEo",
        "outputId": "51d65104-788e-4812-fdc0-cd3c8e9c381d",
        "colab": {
          "base_uri": "https://localhost:8080/"
        }
      },
      "source": [
        "type(lista)"
      ],
      "execution_count": null,
      "outputs": [
        {
          "output_type": "execute_result",
          "data": {
            "text/plain": [
              "list"
            ]
          },
          "metadata": {},
          "execution_count": 53
        }
      ]
    },
    {
      "cell_type": "code",
      "metadata": {
        "id": "A9JehGPyR3PC"
      },
      "source": [
        "# Converte uma lista em tupla\n",
        "tupla3 = tuple(lista)"
      ],
      "execution_count": null,
      "outputs": []
    },
    {
      "cell_type": "code",
      "metadata": {
        "id": "Dl0RZUevR3PD",
        "outputId": "8d70868a-4dc8-4093-b1df-1503de17ffe5",
        "colab": {
          "base_uri": "https://localhost:8080/"
        }
      },
      "source": [
        "type(tupla3)"
      ],
      "execution_count": null,
      "outputs": [
        {
          "output_type": "execute_result",
          "data": {
            "text/plain": [
              "tuple"
            ]
          },
          "metadata": {},
          "execution_count": 55
        }
      ]
    },
    {
      "cell_type": "code",
      "metadata": {
        "id": "bTTKW0z4R3PF",
        "outputId": "8636c0c4-dc1f-41d2-ac28-cbee4f995136",
        "colab": {
          "base_uri": "https://localhost:8080/"
        }
      },
      "source": [
        "tupla3"
      ],
      "execution_count": null,
      "outputs": [
        {
          "output_type": "execute_result",
          "data": {
            "text/plain": [
              "(1, 3, 4, 3, 89.9, 765, 'Ciência dos Dados', 'Machine Learning')"
            ]
          },
          "metadata": {},
          "execution_count": 56
        }
      ]
    },
    {
      "cell_type": "markdown",
      "metadata": {
        "id": "yH0ZuzWuginX"
      },
      "source": [
        "# 3° Listas"
      ]
    },
    {
      "cell_type": "markdown",
      "metadata": {
        "id": "nl9v2zZJBC1D"
      },
      "source": [
        "As listas são uma das estruturas de dados mais versáteis do Python. Uma lista pode simplesmente ser definida escrevendo uma lista de valores separados por vírgula entre colchetes. As listas podem conter itens de tipos diferentes, mas geralmente todos os itens têm o mesmo tipo. As listas Python são mutáveis e os elementos individuais de uma lista podem ser alterados.Aqui está um exemplo rápido para definir uma lista e acessá-la:"
      ]
    },
    {
      "cell_type": "code",
      "metadata": {
        "id": "05THS6rXBS8n"
      },
      "source": [
        "# Criando uma lista qualquer de valores\n",
        "List = [9999, 1, 4, 9, 16, 25, 'vc é fera']\n"
      ],
      "execution_count": null,
      "outputs": []
    },
    {
      "cell_type": "code",
      "metadata": {
        "id": "VHgP38UXBVLB",
        "colab": {
          "base_uri": "https://localhost:8080/"
        },
        "outputId": "1b9f31a2-7fcb-4717-e796-da371485f2e9"
      },
      "source": [
        "'''Itens indivuduais podem ser acessados pelo Índice'''\n",
        "#Indexando e retornando os itens\n",
        "List[0]\n"
      ],
      "execution_count": null,
      "outputs": [
        {
          "output_type": "execute_result",
          "data": {
            "text/plain": [
              "9999"
            ]
          },
          "metadata": {},
          "execution_count": 58
        }
      ]
    },
    {
      "cell_type": "code",
      "metadata": {
        "id": "yOS5QdIGBXwG",
        "colab": {
          "base_uri": "https://localhost:8080/"
        },
        "outputId": "b7261d23-889b-40b5-cbb3-f7b6a69356fd"
      },
      "source": [
        "'''slicing ou Fatiamento ou Filtro da lista'''\n",
        "# Uma range de itens podem ser acessada informando uma faixa de valores de índices\n",
        "\n",
        "print('Itens entre os índices de valores 2 a 4 ==> ', List[2:4])\n"
      ],
      "execution_count": null,
      "outputs": [
        {
          "output_type": "stream",
          "name": "stdout",
          "text": [
            "Itens entre os índices de valores 2 a 4 ==>  [4, 9]\n"
          ]
        }
      ]
    },
    {
      "cell_type": "code",
      "metadata": {
        "id": "xsQevkrtBZpO",
        "outputId": "957696d8-bd9e-49eb-9eca-ebf757823c6c",
        "colab": {
          "base_uri": "https://localhost:8080/"
        }
      },
      "source": [
        "'''Acessando elementos do final com índice negativo'''\n",
        "# Fatiando do Final para frente\n",
        "\n",
        "print('O último elemento da lista é ==>', List[-1])"
      ],
      "execution_count": null,
      "outputs": [
        {
          "output_type": "stream",
          "name": "stdout",
          "text": [
            "O último elemento da lista é ==> vc é fera\n"
          ]
        }
      ]
    },
    {
      "cell_type": "markdown",
      "metadata": {
        "id": "mbsVux8Cg2nN"
      },
      "source": [
        "# Diferença entre Lista e Tupla"
      ]
    },
    {
      "cell_type": "markdown",
      "metadata": {
        "id": "OSwJA0KwLXXW"
      },
      "source": [
        "Ambas são tipos de sequências de dados, mas uma é mutável (lista) e a outra imutável (tupla). Tanto lista como tupla são sequências de dados e possuem muitas propriedades comuns, mas a diferença básica é que a lista é mutável e a tupla é imutável.\n",
        "\n",
        "**O que é imutável?**\n",
        "Conforme o glossário da documentação da linguagem Python, imutável refere-se a um objeto com valor fixo. Objetos imutáveis incluem strings, números e tuplas. Caso seja necessário alterar o valor de um objeto imutável, outro objeto deve ser criado a fim de armazená-lo. Eles desempenham um papel importante em locais onde um valor de hash constante é necessário, por exemplo como uma chave em um dicionário.\n",
        "\n",
        "Na prática, isso implica em que não é possível fazer atribuições à um objeto imutável. Para uma lista, como o exemplo abaixo, é possível alterá-la através de uma operação de atribuição:"
      ]
    },
    {
      "cell_type": "code",
      "metadata": {
        "id": "-wv2aZpLLkPE",
        "outputId": "18e62015-f2e2-4811-e0d7-814acbf0a2c4",
        "colab": {
          "base_uri": "https://localhost:8080/"
        }
      },
      "source": [
        "# Lista é Mutável\n",
        ">>> lista = [0, 1, 2, 3]\n",
        ">>> print(lista)\n"
      ],
      "execution_count": null,
      "outputs": [
        {
          "output_type": "stream",
          "name": "stdout",
          "text": [
            "[0, 1, 2, 3]\n"
          ]
        }
      ]
    },
    {
      "cell_type": "code",
      "metadata": {
        "id": "ztrhddYKfAei",
        "colab": {
          "base_uri": "https://localhost:8080/"
        },
        "outputId": "6d7c7b80-5ebd-49fa-84bb-287930ddf14c"
      },
      "source": [
        ">>> lista[0] = 9\n",
        ">>> print(lista)\n"
      ],
      "execution_count": null,
      "outputs": [
        {
          "output_type": "stream",
          "name": "stdout",
          "text": [
            "[9, 1, 2, 3]\n"
          ]
        }
      ]
    },
    {
      "cell_type": "code",
      "metadata": {
        "id": "r1fSHdO4LsEQ",
        "colab": {
          "base_uri": "https://localhost:8080/"
        },
        "outputId": "ad234f01-24e0-481e-a0cc-cada100c271f"
      },
      "source": [
        "# Tupla é Imutável\n",
        ">>> tupla = (0, 1, 2, 3)\n",
        ">>> print(tupla)\n"
      ],
      "execution_count": null,
      "outputs": [
        {
          "output_type": "stream",
          "name": "stdout",
          "text": [
            "(0, 1, 2, 3)\n"
          ]
        }
      ]
    },
    {
      "cell_type": "code",
      "metadata": {
        "id": "YzLC2gRWfG-C",
        "colab": {
          "base_uri": "https://localhost:8080/",
          "height": 140
        },
        "outputId": "9232f0b2-8593-455a-aaed-acfca6a423c3"
      },
      "source": [
        ">>> tupla[0] = 9\n",
        "TypeError: 'tuple' object does not support item assignment"
      ],
      "execution_count": null,
      "outputs": [
        {
          "output_type": "error",
          "ename": "SyntaxError",
          "evalue": "ignored",
          "traceback": [
            "\u001b[0;36m  File \u001b[0;32m\"<ipython-input-64-59c909c370f2>\"\u001b[0;36m, line \u001b[0;32m2\u001b[0m\n\u001b[0;31m    TypeError: 'tuple' object does not support item assignment\u001b[0m\n\u001b[0m                       ^\u001b[0m\n\u001b[0;31mSyntaxError\u001b[0m\u001b[0;31m:\u001b[0m invalid syntax\n"
          ]
        }
      ]
    },
    {
      "cell_type": "markdown",
      "metadata": {
        "id": "xALSqwcZLQ3L"
      },
      "source": [
        "# 4° Dicionários"
      ]
    },
    {
      "cell_type": "markdown",
      "metadata": {
        "id": "1MA9258SMBmw"
      },
      "source": [
        "Dicionário é um conjunto não ordenado de pares chave e valor, com o requisito de que as chaves sejam únicas (dentro de um dicionário).\n",
        "Um par de chaves cria um dicionário vazio: {}.\n",
        "\n",
        "Dicionários são um coleção desordenada de objetos representados na forma de chave, valor onde a chave é usada para referenciar um determinado valor. As chaves de um dicionário só podem ser de um tipo imutável como inteiros, floats e strings e Tuplas.\n",
        "\n",
        "Dicionários não possuem uma noção de índice e não podem ser fatiados.\n",
        "\n",
        "Dicionários são mutáveis de forma que a qualquer momento você pode inserir ou remover itens."
      ]
    },
    {
      "cell_type": "code",
      "metadata": {
        "id": "vF8f21_WMwmW"
      },
      "source": [
        "# Dicionários são criados colocando os pares \"chave e valor\" entre chaves { } das seguinte forma:\n",
        "\n",
        "dicionario = {'Bruno': 23, 'Nadim': 45, 'Marlos': 'Fortran', 'Hott': 'Java', 'Eduardo': 'SAS'}"
      ],
      "execution_count": null,
      "outputs": []
    },
    {
      "cell_type": "code",
      "metadata": {
        "id": "8-_EBX1_guWf",
        "outputId": "95c5ee30-ca46-4a43-acf6-874c131f86e9",
        "colab": {
          "base_uri": "https://localhost:8080/"
        }
      },
      "source": [
        "dicionario"
      ],
      "execution_count": null,
      "outputs": [
        {
          "output_type": "execute_result",
          "data": {
            "text/plain": [
              "{'Bruno': 23,\n",
              " 'Nadim': 45,\n",
              " 'Marlos': 'Fortran',\n",
              " 'Hott': 'Java',\n",
              " 'Eduardo': 'SAS'}"
            ]
          },
          "metadata": {},
          "execution_count": 66
        }
      ]
    },
    {
      "cell_type": "code",
      "metadata": {
        "id": "LPQPPCDXNfDR",
        "outputId": "a5dd65c6-2fd2-4c66-e37f-712a7bdd94a5",
        "colab": {
          "base_uri": "https://localhost:8080/",
          "height": 35
        }
      },
      "source": [
        "dicionario['Hott']"
      ],
      "execution_count": null,
      "outputs": [
        {
          "output_type": "execute_result",
          "data": {
            "text/plain": [
              "'Java'"
            ],
            "application/vnd.google.colaboratory.intrinsic+json": {
              "type": "string"
            }
          },
          "metadata": {},
          "execution_count": 67
        }
      ]
    },
    {
      "cell_type": "code",
      "metadata": {
        "id": "qNnZnu__3XeR",
        "outputId": "8d1a5840-b667-4de5-a77e-27aceb65366b",
        "colab": {
          "base_uri": "https://localhost:8080/"
        }
      },
      "source": [
        "dicionario['Nadim']"
      ],
      "execution_count": null,
      "outputs": [
        {
          "output_type": "execute_result",
          "data": {
            "text/plain": [
              "45"
            ]
          },
          "metadata": {},
          "execution_count": 68
        }
      ]
    },
    {
      "cell_type": "code",
      "metadata": {
        "id": "CZjg4UMeAvJD",
        "colab": {
          "base_uri": "https://localhost:8080/"
        },
        "outputId": "10cdf37a-3f11-457b-fd6d-e525dc64f569"
      },
      "source": [
        "# Mais Exemplos: definindo um dictionary\n",
        "dicionario = {\n",
        "  'chave_1' : 4,\n",
        "  'chave_2' : 5,\n",
        "  'chave_3' : 6,\n",
        "  'chave_4' : 7\n",
        "}\n",
        "dicionario"
      ],
      "execution_count": null,
      "outputs": [
        {
          "output_type": "execute_result",
          "data": {
            "text/plain": [
              "{'chave_1': 4, 'chave_2': 5, 'chave_3': 6, 'chave_4': 7}"
            ]
          },
          "metadata": {},
          "execution_count": 69
        }
      ]
    },
    {
      "cell_type": "code",
      "metadata": {
        "id": "2YMdP-3rAvbz",
        "outputId": "071a8f2c-a503-4af4-e541-46355f46e59b",
        "colab": {
          "base_uri": "https://localhost:8080/"
        }
      },
      "source": [
        "# Acessando um \"valor\" pela sua chave\n",
        "print('\\nO valor da \"chave_1\" no dicionario é ==> ',dicionario['chave_1'])"
      ],
      "execution_count": null,
      "outputs": [
        {
          "output_type": "stream",
          "name": "stdout",
          "text": [
            "\n",
            "O valor da \"chave_1\" no dicionario é ==>  4\n"
          ]
        }
      ]
    },
    {
      "cell_type": "code",
      "metadata": {
        "id": "uRp_a2qoAvfa",
        "outputId": "585de8fc-9726-49c0-d3ec-eb719ce3a1d8",
        "colab": {
          "base_uri": "https://localhost:8080/"
        }
      },
      "source": [
        "# dictionaries are mutable\n",
        "dicionario['chave_1'] = 1000\n",
        "print('\\n\\nO valor da \"chave_1\" no dicionario é ==> ',dicionario['chave_1'])"
      ],
      "execution_count": null,
      "outputs": [
        {
          "output_type": "stream",
          "name": "stdout",
          "text": [
            "\n",
            "\n",
            "O valor da \"chave_1\" no dicionario é ==>  1000\n"
          ]
        }
      ]
    },
    {
      "cell_type": "code",
      "metadata": {
        "id": "YEKv6hwhAvjp",
        "colab": {
          "base_uri": "https://localhost:8080/"
        },
        "outputId": "b9641b8c-6c10-49b2-9bb4-3c8d3b10cafe"
      },
      "source": [
        "#keys of dictionary\n",
        "print('\\nAs \"chaves\" do dicionário são ==>  ',dicionario.keys())\n"
      ],
      "execution_count": null,
      "outputs": [
        {
          "output_type": "stream",
          "name": "stdout",
          "text": [
            "\n",
            "As \"chaves\" do dicionário são ==>   dict_keys(['chave_1', 'chave_2', 'chave_3', 'chave_4'])\n"
          ]
        }
      ]
    },
    {
      "cell_type": "code",
      "metadata": {
        "id": "EcTNfMVzj_P5",
        "colab": {
          "base_uri": "https://localhost:8080/"
        },
        "outputId": "e8d98a62-6f15-4608-f882-f1082747a9d4"
      },
      "source": [
        "dicionario.keys()"
      ],
      "execution_count": null,
      "outputs": [
        {
          "output_type": "execute_result",
          "data": {
            "text/plain": [
              "dict_keys(['chave_1', 'chave_2', 'chave_3', 'chave_4'])"
            ]
          },
          "metadata": {},
          "execution_count": 73
        }
      ]
    },
    {
      "cell_type": "code",
      "metadata": {
        "id": "EB0Vt2RrkQWL",
        "colab": {
          "base_uri": "https://localhost:8080/"
        },
        "outputId": "3d61a607-a9a1-4f1a-8bef-86bb4af3dbba"
      },
      "source": [
        "dicionario.values()"
      ],
      "execution_count": null,
      "outputs": [
        {
          "output_type": "execute_result",
          "data": {
            "text/plain": [
              "dict_values([1000, 5, 6, 7])"
            ]
          },
          "metadata": {},
          "execution_count": 74
        }
      ]
    },
    {
      "cell_type": "code",
      "metadata": {
        "id": "cSXS9cwM54se",
        "colab": {
          "base_uri": "https://localhost:8080/"
        },
        "outputId": "822d4e83-1b7e-4dab-bd1d-3dc9af22ce83"
      },
      "source": [
        "dicionario"
      ],
      "execution_count": null,
      "outputs": [
        {
          "output_type": "execute_result",
          "data": {
            "text/plain": [
              "{'chave_1': 1000, 'chave_2': 5, 'chave_3': 6, 'chave_4': 7}"
            ]
          },
          "metadata": {},
          "execution_count": 75
        }
      ]
    },
    {
      "cell_type": "markdown",
      "metadata": {
        "id": "XTRc7NjBKG65"
      },
      "source": [
        "# Fim"
      ]
    }
  ]
}